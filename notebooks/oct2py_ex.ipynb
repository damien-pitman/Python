{
 "cells": [
  {
   "cell_type": "markdown",
   "id": "9f1f8375-38af-47a1-87e7-97371348de81",
   "metadata": {},
   "source": [
    "## Calling Octave from Python\n",
    "\n",
    "This notebook demonstrates how to use `oct2py` to run gnu Octave files with Python."
   ]
  },
  {
   "cell_type": "code",
   "execution_count": 62,
   "id": "9ec8d4b9-7062-4ce2-994c-852c8cad191e",
   "metadata": {},
   "outputs": [],
   "source": [
    "from oct2py import octave"
   ]
  },
  {
   "cell_type": "markdown",
   "id": "bd17c616-3c5b-4788-b929-2e69d9d52a8e",
   "metadata": {},
   "source": [
    "Gain access to Lab1 directory."
   ]
  },
  {
   "cell_type": "code",
   "execution_count": 5,
   "id": "7172bc9f-30d2-43ef-8cab-0f77fecd1ba9",
   "metadata": {},
   "outputs": [],
   "source": [
    "octave.addpath(\"/home/damien/CourseWork/508/Labs/Lab1\");"
   ]
  },
  {
   "cell_type": "markdown",
   "id": "9cec345b-84bd-497b-a87c-dc0fd14a93d2",
   "metadata": {},
   "source": [
    "The file `Lab1.m` contains the following code."
   ]
  },
  {
   "cell_type": "markdown",
   "id": "da11a003-f038-4b64-af6a-6049c965aef7",
   "metadata": {},
   "source": [
    "```\n",
    "    % Time three methods for summing norms of columns of a large matrix\n",
    "\n",
    "    function [t1, t2, t3] = Lab1(f)\n",
    "      pkg load signal; % Required for rssq.\n",
    "      X = importdata(f); % Assigned to default variable X.\n",
    "\n",
    "      % Compute norm of each column vector consecutively.\n",
    "      tic % Starts the clock\n",
    "      s = 0;\n",
    "      for i = 1:1000000\n",
    "          s = s + norm(X(:, i));\n",
    "      end\n",
    "      t1 = toc; % Ends the clock and displays elapsed time\n",
    "\n",
    "      % Call `sum` function and componentwise powers.\n",
    "      tic\n",
    "      sum(sum(X.^2).^.5);\n",
    "      t2 = toc;\n",
    "\n",
    "      % Third, we use the `sum` and `rssq` functions. \n",
    "      tic\n",
    "      sum(rssq(X));\n",
    "      t3 = toc;\n",
    " ```"
   ]
  },
  {
   "cell_type": "markdown",
   "id": "5bf69af4-f637-4696-b49f-459288bc1f49",
   "metadata": {},
   "source": [
    "Assign times to variables"
   ]
  },
  {
   "cell_type": "code",
   "execution_count": 8,
   "id": "588b9474-5394-489f-b96e-c7d7224fad74",
   "metadata": {},
   "outputs": [
    {
     "name": "stdout",
     "output_type": "stream",
     "text": [
      "warning: load: '/home/damien/CourseWork/508/Labs/Lab1/data.mat' found by searching load path\n"
     ]
    }
   ],
   "source": [
    "t1, t2, t3 = octave.Lab1(\"data.mat\", nout=3)"
   ]
  },
  {
   "cell_type": "code",
   "execution_count": 60,
   "id": "4db2dae9-69a5-49e8-8e01-3cfe4790e365",
   "metadata": {},
   "outputs": [],
   "source": [
    "s = '{0:<13}{1:>8}\\n{2:<13}:{3:>7.2f}\\n{4:<13}:{5:>7.2f}\\n{6:<13}:{7:7.2f}'"
   ]
  },
  {
   "cell_type": "markdown",
   "id": "28d6b90d-3575-4945-a485-b5a3a6bbddf0",
   "metadata": {},
   "source": [
    "Print the output."
   ]
  },
  {
   "cell_type": "code",
   "execution_count": 61,
   "id": "e819ff21-1bbc-4cd6-8c4f-bbea585219e6",
   "metadata": {},
   "outputs": [
    {
     "name": "stdout",
     "output_type": "stream",
     "text": [
      "Method        Seconds\n",
      "Looping      :  10.40\n",
      "Componentwise:   0.08\n",
      "Built-in     :   0.02\n"
     ]
    }
   ],
   "source": [
    "print(s.format('Method', 'Seconds', 'Looping', t1, 'Componentwise', t2, 'Built-in', t3))"
   ]
  },
  {
   "cell_type": "code",
   "execution_count": null,
   "id": "84d9547d-4bae-41b8-8e1d-7a91666e2d19",
   "metadata": {},
   "outputs": [],
   "source": []
  }
 ],
 "metadata": {
  "kernelspec": {
   "display_name": "Python 3",
   "language": "python",
   "name": "python3"
  },
  "language_info": {
   "codemirror_mode": {
    "name": "ipython",
    "version": 3
   },
   "file_extension": ".py",
   "mimetype": "text/x-python",
   "name": "python",
   "nbconvert_exporter": "python",
   "pygments_lexer": "ipython3",
   "version": "3.8.5"
  }
 },
 "nbformat": 4,
 "nbformat_minor": 5
}
